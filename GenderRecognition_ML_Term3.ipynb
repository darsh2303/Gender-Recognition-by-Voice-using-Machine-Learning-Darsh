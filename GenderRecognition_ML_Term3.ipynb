{
 "cells": [
  {
   "cell_type": "markdown",
   "metadata": {
    "ExecuteTime": {
     "end_time": "2021-06-27T11:29:31.360474Z",
     "start_time": "2021-06-27T11:29:21.939751Z"
    }
   },
   "source": [
    "# Gender recognition by Voice"
   ]
  },
  {
   "cell_type": "markdown",
   "metadata": {},
   "source": [
    "# Importing libraries"
   ]
  },
  {
   "cell_type": "code",
   "execution_count": 196,
   "metadata": {
    "ExecuteTime": {
     "end_time": "2021-06-29T07:36:55.671169Z",
     "start_time": "2021-06-29T07:36:55.648711Z"
    }
   },
   "outputs": [],
   "source": [
    "#-------------------------------------------------------------------------------------------------------------------------------\n",
    "import pandas as pd                                                 # Importing package pandas (For Panel Data Analysis)\n",
    "from pandas_profiling import ProfileReport                          # Import Pandas Profiling (To generate Univariate Analysis)\n",
    "pd.set_option('display.float_format',lambda x: '%5f' % x)\n",
    "#-------------------------------------------------------------------------------------------------------------------------------\n",
    "import numpy as np                                                  # Importing package numpys (For Numerical Python)\n",
    "#-------------------------------------------------------------------------------------------------------------------------------\n",
    "import matplotlib.pyplot as plt                                     # Importing pyplot interface to use matplotlib\n",
    "import seaborn as sns                                               # Importing seaborn library for interactive visualization\n",
    "%matplotlib inline\n",
    "#-------------------------------------------------------------------------------------------------------------------------------\n",
    "import scipy as sp                                                  # Importing library for scientific calculations\n",
    "#-------------------------------------------------------------------------------------------------------------------------------\n",
    "import warnings\n",
    "warnings.filterwarnings('ignore')"
   ]
  },
  {
   "cell_type": "markdown",
   "metadata": {},
   "source": [
    "# Problem Statement"
   ]
  },
  {
   "cell_type": "markdown",
   "metadata": {},
   "source": [
    "Given Acoustuical analysis of Human voices for Males & Females, we need to develop a model which Classifies voice in future as Male or Female."
   ]
  },
  {
   "cell_type": "markdown",
   "metadata": {},
   "source": [
    "# Data Description"
   ]
  },
  {
   "cell_type": "markdown",
   "metadata": {},
   "source": [
    "This database was created to identify a Human voice as male or female, based upon acoustic properties of the voice and speech. The dataset consists of 3,168 recorded voice samples, collected from male and female speakers.\n",
    "\n",
    "\n",
    "The following acoustic properties of each voice are measured and included within the CSV:\n",
    " - meanfreqmean: frequency (in kHz)\n",
    " - sd : standard deviation of frequency\n",
    " - median : median frequency (in kHz)\n",
    " - Q25 : first quantile (in kHz)\n",
    " - Q75 : third quantile (in kHz)\n",
    " - IQR : interquantile range (in kHz)\n",
    " - skew : skewness (see note in specprop description)\n",
    " - kurt : kurtosis (see note in specprop description)\n",
    " - sp.ent : spectral entropy\n",
    " - sfm : spectral flatness\n",
    " - mode : mode frequency\n",
    " - centroid : frequency centroid (see specprop)\n",
    " - meanfun : average of fundamental frequency measured across acoustic signal\n",
    " - minfun : minimum fundamental frequency measured across acoustic signal\n",
    " - maxfun : maximum fundamental frequency measured across acoustic signal\n",
    " - meandom : average of dominant frequency measured across acoustic signal\n",
    " - mindom : minimum of dominant frequency measured across acoustic signal\n",
    " - maxdom : maximum of dominant frequency measured across acoustic signal\n",
    " - dfrange : range of dominant frequency measured across acoustic signal\n",
    " - modindx : modulation index. Calculated as the accumulated absolute difference between adjacent measurements of fundamental frequencies divided by the frequency range\n",
    " - label : male or female\n"
   ]
  },
  {
   "cell_type": "markdown",
   "metadata": {
    "ExecuteTime": {
     "end_time": "2021-06-28T09:44:54.728342Z",
     "start_time": "2021-06-28T09:44:54.723850Z"
    }
   },
   "source": [
    "# Importing The Dataset"
   ]
  },
  {
   "cell_type": "code",
   "execution_count": 197,
   "metadata": {
    "ExecuteTime": {
     "end_time": "2021-06-29T07:36:57.315609Z",
     "start_time": "2021-06-29T07:36:55.675661Z"
    }
   },
   "outputs": [],
   "source": [
    "voice_df=pd.read_csv('https://raw.githubusercontent.com/insaid2018/Term-3/master/Projects/gender_recognition_by_voice.csv')"
   ]
  },
  {
   "cell_type": "code",
   "execution_count": 198,
   "metadata": {
    "ExecuteTime": {
     "end_time": "2021-06-29T07:36:57.379492Z",
     "start_time": "2021-06-29T07:36:57.322597Z"
    },
    "scrolled": false
   },
   "outputs": [
    {
     "data": {
      "text/html": [
       "<div>\n",
       "<style scoped>\n",
       "    .dataframe tbody tr th:only-of-type {\n",
       "        vertical-align: middle;\n",
       "    }\n",
       "\n",
       "    .dataframe tbody tr th {\n",
       "        vertical-align: top;\n",
       "    }\n",
       "\n",
       "    .dataframe thead th {\n",
       "        text-align: right;\n",
       "    }\n",
       "</style>\n",
       "<table border=\"1\" class=\"dataframe\">\n",
       "  <thead>\n",
       "    <tr style=\"text-align: right;\">\n",
       "      <th></th>\n",
       "      <th>meanfreq</th>\n",
       "      <th>sd</th>\n",
       "      <th>median</th>\n",
       "      <th>Q25</th>\n",
       "      <th>Q75</th>\n",
       "      <th>IQR</th>\n",
       "      <th>skew</th>\n",
       "      <th>kurt</th>\n",
       "      <th>sp.ent</th>\n",
       "      <th>sfm</th>\n",
       "      <th>...</th>\n",
       "      <th>centroid</th>\n",
       "      <th>meanfun</th>\n",
       "      <th>minfun</th>\n",
       "      <th>maxfun</th>\n",
       "      <th>meandom</th>\n",
       "      <th>mindom</th>\n",
       "      <th>maxdom</th>\n",
       "      <th>dfrange</th>\n",
       "      <th>modindx</th>\n",
       "      <th>label</th>\n",
       "    </tr>\n",
       "  </thead>\n",
       "  <tbody>\n",
       "    <tr>\n",
       "      <th>0</th>\n",
       "      <td>0.059781</td>\n",
       "      <td>0.064241</td>\n",
       "      <td>0.032027</td>\n",
       "      <td>0.015071</td>\n",
       "      <td>0.090193</td>\n",
       "      <td>0.075122</td>\n",
       "      <td>12.863462</td>\n",
       "      <td>274.402906</td>\n",
       "      <td>0.893369</td>\n",
       "      <td>0.491918</td>\n",
       "      <td>...</td>\n",
       "      <td>0.059781</td>\n",
       "      <td>0.084279</td>\n",
       "      <td>0.015702</td>\n",
       "      <td>0.275862</td>\n",
       "      <td>0.007812</td>\n",
       "      <td>0.007812</td>\n",
       "      <td>0.007812</td>\n",
       "      <td>0.000000</td>\n",
       "      <td>0.000000</td>\n",
       "      <td>male</td>\n",
       "    </tr>\n",
       "    <tr>\n",
       "      <th>1</th>\n",
       "      <td>0.066009</td>\n",
       "      <td>0.067310</td>\n",
       "      <td>0.040229</td>\n",
       "      <td>0.019414</td>\n",
       "      <td>0.092666</td>\n",
       "      <td>0.073252</td>\n",
       "      <td>22.423285</td>\n",
       "      <td>634.613855</td>\n",
       "      <td>0.892193</td>\n",
       "      <td>0.513724</td>\n",
       "      <td>...</td>\n",
       "      <td>0.066009</td>\n",
       "      <td>0.107937</td>\n",
       "      <td>0.015826</td>\n",
       "      <td>0.250000</td>\n",
       "      <td>0.009014</td>\n",
       "      <td>0.007812</td>\n",
       "      <td>0.054688</td>\n",
       "      <td>0.046875</td>\n",
       "      <td>0.052632</td>\n",
       "      <td>male</td>\n",
       "    </tr>\n",
       "    <tr>\n",
       "      <th>2</th>\n",
       "      <td>0.077316</td>\n",
       "      <td>0.083829</td>\n",
       "      <td>0.036718</td>\n",
       "      <td>0.008701</td>\n",
       "      <td>0.131908</td>\n",
       "      <td>0.123207</td>\n",
       "      <td>30.757155</td>\n",
       "      <td>1024.927705</td>\n",
       "      <td>0.846389</td>\n",
       "      <td>0.478905</td>\n",
       "      <td>...</td>\n",
       "      <td>0.077316</td>\n",
       "      <td>0.098706</td>\n",
       "      <td>0.015656</td>\n",
       "      <td>0.271186</td>\n",
       "      <td>0.007990</td>\n",
       "      <td>0.007812</td>\n",
       "      <td>0.015625</td>\n",
       "      <td>0.007812</td>\n",
       "      <td>0.046512</td>\n",
       "      <td>male</td>\n",
       "    </tr>\n",
       "    <tr>\n",
       "      <th>3</th>\n",
       "      <td>0.151228</td>\n",
       "      <td>0.072111</td>\n",
       "      <td>0.158011</td>\n",
       "      <td>0.096582</td>\n",
       "      <td>0.207955</td>\n",
       "      <td>0.111374</td>\n",
       "      <td>1.232831</td>\n",
       "      <td>4.177296</td>\n",
       "      <td>0.963322</td>\n",
       "      <td>0.727232</td>\n",
       "      <td>...</td>\n",
       "      <td>0.151228</td>\n",
       "      <td>0.088965</td>\n",
       "      <td>0.017798</td>\n",
       "      <td>0.250000</td>\n",
       "      <td>0.201497</td>\n",
       "      <td>0.007812</td>\n",
       "      <td>0.562500</td>\n",
       "      <td>0.554688</td>\n",
       "      <td>0.247119</td>\n",
       "      <td>male</td>\n",
       "    </tr>\n",
       "    <tr>\n",
       "      <th>4</th>\n",
       "      <td>0.135120</td>\n",
       "      <td>0.079146</td>\n",
       "      <td>0.124656</td>\n",
       "      <td>0.078720</td>\n",
       "      <td>0.206045</td>\n",
       "      <td>0.127325</td>\n",
       "      <td>1.101174</td>\n",
       "      <td>4.333713</td>\n",
       "      <td>0.971955</td>\n",
       "      <td>0.783568</td>\n",
       "      <td>...</td>\n",
       "      <td>0.135120</td>\n",
       "      <td>0.106398</td>\n",
       "      <td>0.016931</td>\n",
       "      <td>0.266667</td>\n",
       "      <td>0.712812</td>\n",
       "      <td>0.007812</td>\n",
       "      <td>5.484375</td>\n",
       "      <td>5.476562</td>\n",
       "      <td>0.208274</td>\n",
       "      <td>male</td>\n",
       "    </tr>\n",
       "    <tr>\n",
       "      <th>5</th>\n",
       "      <td>0.132786</td>\n",
       "      <td>0.079557</td>\n",
       "      <td>0.119090</td>\n",
       "      <td>0.067958</td>\n",
       "      <td>0.209592</td>\n",
       "      <td>0.141634</td>\n",
       "      <td>1.932562</td>\n",
       "      <td>8.308895</td>\n",
       "      <td>0.963181</td>\n",
       "      <td>0.738307</td>\n",
       "      <td>...</td>\n",
       "      <td>0.132786</td>\n",
       "      <td>0.110132</td>\n",
       "      <td>0.017112</td>\n",
       "      <td>0.253968</td>\n",
       "      <td>0.298222</td>\n",
       "      <td>0.007812</td>\n",
       "      <td>2.726562</td>\n",
       "      <td>2.718750</td>\n",
       "      <td>0.125160</td>\n",
       "      <td>male</td>\n",
       "    </tr>\n",
       "    <tr>\n",
       "      <th>6</th>\n",
       "      <td>0.150762</td>\n",
       "      <td>0.074463</td>\n",
       "      <td>0.160106</td>\n",
       "      <td>0.092899</td>\n",
       "      <td>0.205718</td>\n",
       "      <td>0.112819</td>\n",
       "      <td>1.530643</td>\n",
       "      <td>5.987498</td>\n",
       "      <td>0.967573</td>\n",
       "      <td>0.762638</td>\n",
       "      <td>...</td>\n",
       "      <td>0.150762</td>\n",
       "      <td>0.105945</td>\n",
       "      <td>0.026230</td>\n",
       "      <td>0.266667</td>\n",
       "      <td>0.479620</td>\n",
       "      <td>0.007812</td>\n",
       "      <td>5.312500</td>\n",
       "      <td>5.304688</td>\n",
       "      <td>0.123992</td>\n",
       "      <td>male</td>\n",
       "    </tr>\n",
       "    <tr>\n",
       "      <th>7</th>\n",
       "      <td>0.160514</td>\n",
       "      <td>0.076767</td>\n",
       "      <td>0.144337</td>\n",
       "      <td>0.110532</td>\n",
       "      <td>0.231962</td>\n",
       "      <td>0.121430</td>\n",
       "      <td>1.397156</td>\n",
       "      <td>4.766611</td>\n",
       "      <td>0.959255</td>\n",
       "      <td>0.719858</td>\n",
       "      <td>...</td>\n",
       "      <td>0.160514</td>\n",
       "      <td>0.093052</td>\n",
       "      <td>0.017758</td>\n",
       "      <td>0.144144</td>\n",
       "      <td>0.301339</td>\n",
       "      <td>0.007812</td>\n",
       "      <td>0.539062</td>\n",
       "      <td>0.531250</td>\n",
       "      <td>0.283937</td>\n",
       "      <td>male</td>\n",
       "    </tr>\n",
       "    <tr>\n",
       "      <th>8</th>\n",
       "      <td>0.142239</td>\n",
       "      <td>0.078018</td>\n",
       "      <td>0.138587</td>\n",
       "      <td>0.088206</td>\n",
       "      <td>0.208587</td>\n",
       "      <td>0.120381</td>\n",
       "      <td>1.099746</td>\n",
       "      <td>4.070284</td>\n",
       "      <td>0.970723</td>\n",
       "      <td>0.770992</td>\n",
       "      <td>...</td>\n",
       "      <td>0.142239</td>\n",
       "      <td>0.096729</td>\n",
       "      <td>0.017957</td>\n",
       "      <td>0.250000</td>\n",
       "      <td>0.336476</td>\n",
       "      <td>0.007812</td>\n",
       "      <td>2.164062</td>\n",
       "      <td>2.156250</td>\n",
       "      <td>0.148272</td>\n",
       "      <td>male</td>\n",
       "    </tr>\n",
       "    <tr>\n",
       "      <th>9</th>\n",
       "      <td>0.134329</td>\n",
       "      <td>0.080350</td>\n",
       "      <td>0.121451</td>\n",
       "      <td>0.075580</td>\n",
       "      <td>0.201957</td>\n",
       "      <td>0.126377</td>\n",
       "      <td>1.190368</td>\n",
       "      <td>4.787310</td>\n",
       "      <td>0.975246</td>\n",
       "      <td>0.804505</td>\n",
       "      <td>...</td>\n",
       "      <td>0.134329</td>\n",
       "      <td>0.105881</td>\n",
       "      <td>0.019300</td>\n",
       "      <td>0.262295</td>\n",
       "      <td>0.340365</td>\n",
       "      <td>0.015625</td>\n",
       "      <td>4.695312</td>\n",
       "      <td>4.679688</td>\n",
       "      <td>0.089920</td>\n",
       "      <td>male</td>\n",
       "    </tr>\n",
       "  </tbody>\n",
       "</table>\n",
       "<p>10 rows × 21 columns</p>\n",
       "</div>"
      ],
      "text/plain": [
       "   meanfreq       sd   median      Q25      Q75      IQR      skew  \\\n",
       "0  0.059781 0.064241 0.032027 0.015071 0.090193 0.075122 12.863462   \n",
       "1  0.066009 0.067310 0.040229 0.019414 0.092666 0.073252 22.423285   \n",
       "2  0.077316 0.083829 0.036718 0.008701 0.131908 0.123207 30.757155   \n",
       "3  0.151228 0.072111 0.158011 0.096582 0.207955 0.111374  1.232831   \n",
       "4  0.135120 0.079146 0.124656 0.078720 0.206045 0.127325  1.101174   \n",
       "5  0.132786 0.079557 0.119090 0.067958 0.209592 0.141634  1.932562   \n",
       "6  0.150762 0.074463 0.160106 0.092899 0.205718 0.112819  1.530643   \n",
       "7  0.160514 0.076767 0.144337 0.110532 0.231962 0.121430  1.397156   \n",
       "8  0.142239 0.078018 0.138587 0.088206 0.208587 0.120381  1.099746   \n",
       "9  0.134329 0.080350 0.121451 0.075580 0.201957 0.126377  1.190368   \n",
       "\n",
       "         kurt   sp.ent      sfm  ...  centroid  meanfun   minfun   maxfun  \\\n",
       "0  274.402906 0.893369 0.491918  ...  0.059781 0.084279 0.015702 0.275862   \n",
       "1  634.613855 0.892193 0.513724  ...  0.066009 0.107937 0.015826 0.250000   \n",
       "2 1024.927705 0.846389 0.478905  ...  0.077316 0.098706 0.015656 0.271186   \n",
       "3    4.177296 0.963322 0.727232  ...  0.151228 0.088965 0.017798 0.250000   \n",
       "4    4.333713 0.971955 0.783568  ...  0.135120 0.106398 0.016931 0.266667   \n",
       "5    8.308895 0.963181 0.738307  ...  0.132786 0.110132 0.017112 0.253968   \n",
       "6    5.987498 0.967573 0.762638  ...  0.150762 0.105945 0.026230 0.266667   \n",
       "7    4.766611 0.959255 0.719858  ...  0.160514 0.093052 0.017758 0.144144   \n",
       "8    4.070284 0.970723 0.770992  ...  0.142239 0.096729 0.017957 0.250000   \n",
       "9    4.787310 0.975246 0.804505  ...  0.134329 0.105881 0.019300 0.262295   \n",
       "\n",
       "   meandom   mindom   maxdom  dfrange  modindx  label  \n",
       "0 0.007812 0.007812 0.007812 0.000000 0.000000   male  \n",
       "1 0.009014 0.007812 0.054688 0.046875 0.052632   male  \n",
       "2 0.007990 0.007812 0.015625 0.007812 0.046512   male  \n",
       "3 0.201497 0.007812 0.562500 0.554688 0.247119   male  \n",
       "4 0.712812 0.007812 5.484375 5.476562 0.208274   male  \n",
       "5 0.298222 0.007812 2.726562 2.718750 0.125160   male  \n",
       "6 0.479620 0.007812 5.312500 5.304688 0.123992   male  \n",
       "7 0.301339 0.007812 0.539062 0.531250 0.283937   male  \n",
       "8 0.336476 0.007812 2.164062 2.156250 0.148272   male  \n",
       "9 0.340365 0.015625 4.695312 4.679688 0.089920   male  \n",
       "\n",
       "[10 rows x 21 columns]"
      ]
     },
     "execution_count": 198,
     "metadata": {},
     "output_type": "execute_result"
    }
   ],
   "source": [
    "voice_df.head(10)"
   ]
  },
  {
   "cell_type": "markdown",
   "metadata": {},
   "source": [
    "# EDA"
   ]
  },
  {
   "cell_type": "code",
   "execution_count": 199,
   "metadata": {
    "ExecuteTime": {
     "end_time": "2021-06-29T07:36:57.395959Z",
     "start_time": "2021-06-29T07:36:57.384481Z"
    }
   },
   "outputs": [
    {
     "data": {
      "text/plain": [
       "(3168, 21)"
      ]
     },
     "execution_count": 199,
     "metadata": {},
     "output_type": "execute_result"
    }
   ],
   "source": [
    "voice_df.shape"
   ]
  },
  {
   "cell_type": "code",
   "execution_count": 200,
   "metadata": {
    "ExecuteTime": {
     "end_time": "2021-06-29T07:36:57.439380Z",
     "start_time": "2021-06-29T07:36:57.401950Z"
    }
   },
   "outputs": [
    {
     "name": "stdout",
     "output_type": "stream",
     "text": [
      "<class 'pandas.core.frame.DataFrame'>\n",
      "RangeIndex: 3168 entries, 0 to 3167\n",
      "Data columns (total 21 columns):\n",
      " #   Column    Non-Null Count  Dtype  \n",
      "---  ------    --------------  -----  \n",
      " 0   meanfreq  3168 non-null   float64\n",
      " 1   sd        3168 non-null   float64\n",
      " 2   median    3168 non-null   float64\n",
      " 3   Q25       3168 non-null   float64\n",
      " 4   Q75       3168 non-null   float64\n",
      " 5   IQR       3168 non-null   float64\n",
      " 6   skew      3168 non-null   float64\n",
      " 7   kurt      3168 non-null   float64\n",
      " 8   sp.ent    3168 non-null   float64\n",
      " 9   sfm       3168 non-null   float64\n",
      " 10  mode      3168 non-null   float64\n",
      " 11  centroid  3168 non-null   float64\n",
      " 12  meanfun   3168 non-null   float64\n",
      " 13  minfun    3168 non-null   float64\n",
      " 14  maxfun    3168 non-null   float64\n",
      " 15  meandom   3168 non-null   float64\n",
      " 16  mindom    3168 non-null   float64\n",
      " 17  maxdom    3168 non-null   float64\n",
      " 18  dfrange   3168 non-null   float64\n",
      " 19  modindx   3168 non-null   float64\n",
      " 20  label     3168 non-null   object \n",
      "dtypes: float64(20), object(1)\n",
      "memory usage: 519.9+ KB\n"
     ]
    }
   ],
   "source": [
    "voice_df.info()"
   ]
  },
  {
   "cell_type": "markdown",
   "metadata": {},
   "source": [
    "- Dataset has 3168 rows and 21 Columns.\n",
    "- All columns has 3168 non-null count. (Looks no Missing value)\n",
    "- Label is the only object Column and our Target variable."
   ]
  },
  {
   "cell_type": "markdown",
   "metadata": {},
   "source": [
    "**Checking for missing values**"
   ]
  },
  {
   "cell_type": "code",
   "execution_count": 201,
   "metadata": {
    "ExecuteTime": {
     "end_time": "2021-06-29T07:36:57.467326Z",
     "start_time": "2021-06-29T07:36:57.443871Z"
    }
   },
   "outputs": [
    {
     "data": {
      "text/plain": [
       "meanfreq    0\n",
       "sd          0\n",
       "median      0\n",
       "Q25         0\n",
       "Q75         0\n",
       "IQR         0\n",
       "skew        0\n",
       "kurt        0\n",
       "sp.ent      0\n",
       "sfm         0\n",
       "mode        0\n",
       "centroid    0\n",
       "meanfun     0\n",
       "minfun      0\n",
       "maxfun      0\n",
       "meandom     0\n",
       "mindom      0\n",
       "maxdom      0\n",
       "dfrange     0\n",
       "modindx     0\n",
       "label       0\n",
       "dtype: int64"
      ]
     },
     "execution_count": 201,
     "metadata": {},
     "output_type": "execute_result"
    }
   ],
   "source": [
    "voice_df.isnull().sum()"
   ]
  },
  {
   "cell_type": "markdown",
   "metadata": {},
   "source": [
    "- Hence confirming no missing values."
   ]
  },
  {
   "cell_type": "code",
   "execution_count": 202,
   "metadata": {
    "ExecuteTime": {
     "end_time": "2021-06-29T07:36:57.589102Z",
     "start_time": "2021-06-29T07:36:57.473815Z"
    }
   },
   "outputs": [
    {
     "data": {
      "text/html": [
       "<div>\n",
       "<style scoped>\n",
       "    .dataframe tbody tr th:only-of-type {\n",
       "        vertical-align: middle;\n",
       "    }\n",
       "\n",
       "    .dataframe tbody tr th {\n",
       "        vertical-align: top;\n",
       "    }\n",
       "\n",
       "    .dataframe thead th {\n",
       "        text-align: right;\n",
       "    }\n",
       "</style>\n",
       "<table border=\"1\" class=\"dataframe\">\n",
       "  <thead>\n",
       "    <tr style=\"text-align: right;\">\n",
       "      <th></th>\n",
       "      <th>meanfreq</th>\n",
       "      <th>sd</th>\n",
       "      <th>median</th>\n",
       "      <th>Q25</th>\n",
       "      <th>Q75</th>\n",
       "      <th>IQR</th>\n",
       "      <th>skew</th>\n",
       "      <th>kurt</th>\n",
       "      <th>sp.ent</th>\n",
       "      <th>sfm</th>\n",
       "      <th>mode</th>\n",
       "      <th>centroid</th>\n",
       "      <th>meanfun</th>\n",
       "      <th>minfun</th>\n",
       "      <th>maxfun</th>\n",
       "      <th>meandom</th>\n",
       "      <th>mindom</th>\n",
       "      <th>maxdom</th>\n",
       "      <th>dfrange</th>\n",
       "      <th>modindx</th>\n",
       "    </tr>\n",
       "  </thead>\n",
       "  <tbody>\n",
       "    <tr>\n",
       "      <th>count</th>\n",
       "      <td>3168.000000</td>\n",
       "      <td>3168.000000</td>\n",
       "      <td>3168.000000</td>\n",
       "      <td>3168.000000</td>\n",
       "      <td>3168.000000</td>\n",
       "      <td>3168.000000</td>\n",
       "      <td>3168.000000</td>\n",
       "      <td>3168.000000</td>\n",
       "      <td>3168.000000</td>\n",
       "      <td>3168.000000</td>\n",
       "      <td>3168.000000</td>\n",
       "      <td>3168.000000</td>\n",
       "      <td>3168.000000</td>\n",
       "      <td>3168.000000</td>\n",
       "      <td>3168.000000</td>\n",
       "      <td>3168.000000</td>\n",
       "      <td>3168.000000</td>\n",
       "      <td>3168.000000</td>\n",
       "      <td>3168.000000</td>\n",
       "      <td>3168.000000</td>\n",
       "    </tr>\n",
       "    <tr>\n",
       "      <th>mean</th>\n",
       "      <td>0.180907</td>\n",
       "      <td>0.057126</td>\n",
       "      <td>0.185621</td>\n",
       "      <td>0.140456</td>\n",
       "      <td>0.224765</td>\n",
       "      <td>0.084309</td>\n",
       "      <td>3.140168</td>\n",
       "      <td>36.568461</td>\n",
       "      <td>0.895127</td>\n",
       "      <td>0.408216</td>\n",
       "      <td>0.165282</td>\n",
       "      <td>0.180907</td>\n",
       "      <td>0.142807</td>\n",
       "      <td>0.036802</td>\n",
       "      <td>0.258842</td>\n",
       "      <td>0.829211</td>\n",
       "      <td>0.052647</td>\n",
       "      <td>5.047277</td>\n",
       "      <td>4.994630</td>\n",
       "      <td>0.173752</td>\n",
       "    </tr>\n",
       "    <tr>\n",
       "      <th>std</th>\n",
       "      <td>0.029918</td>\n",
       "      <td>0.016652</td>\n",
       "      <td>0.036360</td>\n",
       "      <td>0.048680</td>\n",
       "      <td>0.023639</td>\n",
       "      <td>0.042783</td>\n",
       "      <td>4.240529</td>\n",
       "      <td>134.928661</td>\n",
       "      <td>0.044980</td>\n",
       "      <td>0.177521</td>\n",
       "      <td>0.077203</td>\n",
       "      <td>0.029918</td>\n",
       "      <td>0.032304</td>\n",
       "      <td>0.019220</td>\n",
       "      <td>0.030077</td>\n",
       "      <td>0.525205</td>\n",
       "      <td>0.063299</td>\n",
       "      <td>3.521157</td>\n",
       "      <td>3.520039</td>\n",
       "      <td>0.119454</td>\n",
       "    </tr>\n",
       "    <tr>\n",
       "      <th>min</th>\n",
       "      <td>0.039363</td>\n",
       "      <td>0.018363</td>\n",
       "      <td>0.010975</td>\n",
       "      <td>0.000229</td>\n",
       "      <td>0.042946</td>\n",
       "      <td>0.014558</td>\n",
       "      <td>0.141735</td>\n",
       "      <td>2.068455</td>\n",
       "      <td>0.738651</td>\n",
       "      <td>0.036876</td>\n",
       "      <td>0.000000</td>\n",
       "      <td>0.039363</td>\n",
       "      <td>0.055565</td>\n",
       "      <td>0.009775</td>\n",
       "      <td>0.103093</td>\n",
       "      <td>0.007812</td>\n",
       "      <td>0.004883</td>\n",
       "      <td>0.007812</td>\n",
       "      <td>0.000000</td>\n",
       "      <td>0.000000</td>\n",
       "    </tr>\n",
       "    <tr>\n",
       "      <th>25%</th>\n",
       "      <td>0.163662</td>\n",
       "      <td>0.041954</td>\n",
       "      <td>0.169593</td>\n",
       "      <td>0.111087</td>\n",
       "      <td>0.208747</td>\n",
       "      <td>0.042560</td>\n",
       "      <td>1.649569</td>\n",
       "      <td>5.669547</td>\n",
       "      <td>0.861811</td>\n",
       "      <td>0.258041</td>\n",
       "      <td>0.118016</td>\n",
       "      <td>0.163662</td>\n",
       "      <td>0.116998</td>\n",
       "      <td>0.018223</td>\n",
       "      <td>0.253968</td>\n",
       "      <td>0.419828</td>\n",
       "      <td>0.007812</td>\n",
       "      <td>2.070312</td>\n",
       "      <td>2.044922</td>\n",
       "      <td>0.099766</td>\n",
       "    </tr>\n",
       "    <tr>\n",
       "      <th>50%</th>\n",
       "      <td>0.184838</td>\n",
       "      <td>0.059155</td>\n",
       "      <td>0.190032</td>\n",
       "      <td>0.140286</td>\n",
       "      <td>0.225684</td>\n",
       "      <td>0.094280</td>\n",
       "      <td>2.197101</td>\n",
       "      <td>8.318463</td>\n",
       "      <td>0.901767</td>\n",
       "      <td>0.396335</td>\n",
       "      <td>0.186599</td>\n",
       "      <td>0.184838</td>\n",
       "      <td>0.140519</td>\n",
       "      <td>0.046110</td>\n",
       "      <td>0.271186</td>\n",
       "      <td>0.765795</td>\n",
       "      <td>0.023438</td>\n",
       "      <td>4.992188</td>\n",
       "      <td>4.945312</td>\n",
       "      <td>0.139357</td>\n",
       "    </tr>\n",
       "    <tr>\n",
       "      <th>75%</th>\n",
       "      <td>0.199146</td>\n",
       "      <td>0.067020</td>\n",
       "      <td>0.210618</td>\n",
       "      <td>0.175939</td>\n",
       "      <td>0.243660</td>\n",
       "      <td>0.114175</td>\n",
       "      <td>2.931694</td>\n",
       "      <td>13.648905</td>\n",
       "      <td>0.928713</td>\n",
       "      <td>0.533676</td>\n",
       "      <td>0.221104</td>\n",
       "      <td>0.199146</td>\n",
       "      <td>0.169581</td>\n",
       "      <td>0.047904</td>\n",
       "      <td>0.277457</td>\n",
       "      <td>1.177166</td>\n",
       "      <td>0.070312</td>\n",
       "      <td>7.007812</td>\n",
       "      <td>6.992188</td>\n",
       "      <td>0.209183</td>\n",
       "    </tr>\n",
       "    <tr>\n",
       "      <th>max</th>\n",
       "      <td>0.251124</td>\n",
       "      <td>0.115273</td>\n",
       "      <td>0.261224</td>\n",
       "      <td>0.247347</td>\n",
       "      <td>0.273469</td>\n",
       "      <td>0.252225</td>\n",
       "      <td>34.725453</td>\n",
       "      <td>1309.612887</td>\n",
       "      <td>0.981997</td>\n",
       "      <td>0.842936</td>\n",
       "      <td>0.280000</td>\n",
       "      <td>0.251124</td>\n",
       "      <td>0.237636</td>\n",
       "      <td>0.204082</td>\n",
       "      <td>0.279114</td>\n",
       "      <td>2.957682</td>\n",
       "      <td>0.458984</td>\n",
       "      <td>21.867188</td>\n",
       "      <td>21.843750</td>\n",
       "      <td>0.932374</td>\n",
       "    </tr>\n",
       "  </tbody>\n",
       "</table>\n",
       "</div>"
      ],
      "text/plain": [
       "         meanfreq          sd      median         Q25         Q75         IQR  \\\n",
       "count 3168.000000 3168.000000 3168.000000 3168.000000 3168.000000 3168.000000   \n",
       "mean     0.180907    0.057126    0.185621    0.140456    0.224765    0.084309   \n",
       "std      0.029918    0.016652    0.036360    0.048680    0.023639    0.042783   \n",
       "min      0.039363    0.018363    0.010975    0.000229    0.042946    0.014558   \n",
       "25%      0.163662    0.041954    0.169593    0.111087    0.208747    0.042560   \n",
       "50%      0.184838    0.059155    0.190032    0.140286    0.225684    0.094280   \n",
       "75%      0.199146    0.067020    0.210618    0.175939    0.243660    0.114175   \n",
       "max      0.251124    0.115273    0.261224    0.247347    0.273469    0.252225   \n",
       "\n",
       "             skew        kurt      sp.ent         sfm        mode    centroid  \\\n",
       "count 3168.000000 3168.000000 3168.000000 3168.000000 3168.000000 3168.000000   \n",
       "mean     3.140168   36.568461    0.895127    0.408216    0.165282    0.180907   \n",
       "std      4.240529  134.928661    0.044980    0.177521    0.077203    0.029918   \n",
       "min      0.141735    2.068455    0.738651    0.036876    0.000000    0.039363   \n",
       "25%      1.649569    5.669547    0.861811    0.258041    0.118016    0.163662   \n",
       "50%      2.197101    8.318463    0.901767    0.396335    0.186599    0.184838   \n",
       "75%      2.931694   13.648905    0.928713    0.533676    0.221104    0.199146   \n",
       "max     34.725453 1309.612887    0.981997    0.842936    0.280000    0.251124   \n",
       "\n",
       "          meanfun      minfun      maxfun     meandom      mindom      maxdom  \\\n",
       "count 3168.000000 3168.000000 3168.000000 3168.000000 3168.000000 3168.000000   \n",
       "mean     0.142807    0.036802    0.258842    0.829211    0.052647    5.047277   \n",
       "std      0.032304    0.019220    0.030077    0.525205    0.063299    3.521157   \n",
       "min      0.055565    0.009775    0.103093    0.007812    0.004883    0.007812   \n",
       "25%      0.116998    0.018223    0.253968    0.419828    0.007812    2.070312   \n",
       "50%      0.140519    0.046110    0.271186    0.765795    0.023438    4.992188   \n",
       "75%      0.169581    0.047904    0.277457    1.177166    0.070312    7.007812   \n",
       "max      0.237636    0.204082    0.279114    2.957682    0.458984   21.867188   \n",
       "\n",
       "          dfrange     modindx  \n",
       "count 3168.000000 3168.000000  \n",
       "mean     4.994630    0.173752  \n",
       "std      3.520039    0.119454  \n",
       "min      0.000000    0.000000  \n",
       "25%      2.044922    0.099766  \n",
       "50%      4.945312    0.139357  \n",
       "75%      6.992188    0.209183  \n",
       "max     21.843750    0.932374  "
      ]
     },
     "execution_count": 202,
     "metadata": {},
     "output_type": "execute_result"
    }
   ],
   "source": [
    "voice_df.describe()"
   ]
  },
  {
   "cell_type": "markdown",
   "metadata": {},
   "source": [
    "- some of the columns are highly skewed and more likely to have outliers."
   ]
  },
  {
   "cell_type": "code",
   "execution_count": 203,
   "metadata": {
    "ExecuteTime": {
     "end_time": "2021-06-29T07:36:57.602576Z",
     "start_time": "2021-06-29T07:36:57.595590Z"
    }
   },
   "outputs": [],
   "source": [
    "#profile_pl = voice_df.profile_report(title=\"Voice recognition profiling\", progress_bar=False, minimal=True) \n",
    "#profile_pl.to_file(output_file=\"gender recognition profiling.html\")"
   ]
  },
  {
   "cell_type": "markdown",
   "metadata": {},
   "source": [
    "Observations from Profilling:-\n",
    "    \n",
    "- Columns Sd, Q25,Sp.ent, Sfm, Meanfun are almost normally distributed.\n",
    "- Columns Meanfreq, Q75, Mode, Centroid, Meandown, Maxdom, dfrange are moderately skewwed, some positively &  some negatively.\n",
    "- Columns Skew, Kurt, Minfun, Maxfun, Mindom, Modindx are highly skewwed, some positively &  some negatively.\n",
    "- Columns Skew, Kurt, Minfun, Modindx, Maxfun have high chances of outliers."
   ]
  },
  {
   "cell_type": "code",
   "execution_count": 204,
   "metadata": {
    "ExecuteTime": {
     "end_time": "2021-06-29T07:37:07.625710Z",
     "start_time": "2021-06-29T07:36:57.608066Z"
    },
    "scrolled": false
   },
   "outputs": [
    {
     "data": {
      "image/png": "[encoded data removed]",
      "text/plain": [
       "<Figure size 720x1800 with 20 Axes>"
      ]
     },
     "metadata": {
      "needs_background": "light"
     },
     "output_type": "display_data"
    }
   ],
   "source": [
    "# plotting histogram for each feature with Label.\n",
    "plt.figure(figsize=(10,25))\n",
    "\n",
    "for i in range(1,21):\n",
    "    plt.subplot(10,2,i)\n",
    "    sns.histplot(x=voice_df.columns[i-1] , data=voice_df, hue='label', element='poly')\n",
    "    plt.xlabel(voice_df.columns[i-1], fontsize=15)\n",
    "plt.subplots_adjust(top=0.85)\n",
    "plt.tight_layout()"
   ]
  },
  {
   "cell_type": "markdown",
   "metadata": {},
   "source": [
    "- variables such as sd, Q25, IQR, sp.ent, sfm, mode, and meanfun may help us separate male voices from female voices"
   ]
  },
  {
   "cell_type": "markdown",
   "metadata": {},
   "source": [
    "# Splitting Data into X & y"
   ]
  },
  {
   "cell_type": "code",
   "execution_count": 205,
   "metadata": {
    "ExecuteTime": {
     "end_time": "2021-06-29T07:37:07.642179Z",
     "start_time": "2021-06-29T07:37:07.632199Z"
    }
   },
   "outputs": [],
   "source": [
    "X = voice_df.drop('label', axis=1)\n",
    "y = voice_df['label']"
   ]
  },
  {
   "cell_type": "markdown",
   "metadata": {},
   "source": [
    "## Scaling the independent variables i.e. X"
   ]
  },
  {
   "cell_type": "code",
   "execution_count": 206,
   "metadata": {
    "ExecuteTime": {
     "end_time": "2021-06-29T07:37:07.677615Z",
     "start_time": "2021-06-29T07:37:07.648169Z"
    }
   },
   "outputs": [],
   "source": [
    "cols = X.columns.tolist()\n",
    "from sklearn.preprocessing import StandardScaler\n",
    "sc=StandardScaler()\n",
    "X=sc.fit_transform(X)\n",
    "X= pd.DataFrame(X, columns=cols)"
   ]
  },
  {
   "cell_type": "code",
   "execution_count": 207,
   "metadata": {
    "ExecuteTime": {
     "end_time": "2021-06-29T07:37:07.721533Z",
     "start_time": "2021-06-29T07:37:07.683103Z"
    }
   },
   "outputs": [
    {
     "data": {
      "text/html": [
       "<div>\n",
       "<style scoped>\n",
       "    .dataframe tbody tr th:only-of-type {\n",
       "        vertical-align: middle;\n",
       "    }\n",
       "\n",
       "    .dataframe tbody tr th {\n",
       "        vertical-align: top;\n",
       "    }\n",
       "\n",
       "    .dataframe thead th {\n",
       "        text-align: right;\n",
       "    }\n",
       "</style>\n",
       "<table border=\"1\" class=\"dataframe\">\n",
       "  <thead>\n",
       "    <tr style=\"text-align: right;\">\n",
       "      <th></th>\n",
       "      <th>meanfreq</th>\n",
       "      <th>sd</th>\n",
       "      <th>median</th>\n",
       "      <th>Q25</th>\n",
       "      <th>Q75</th>\n",
       "      <th>IQR</th>\n",
       "      <th>skew</th>\n",
       "      <th>kurt</th>\n",
       "      <th>sp.ent</th>\n",
       "      <th>sfm</th>\n",
       "      <th>mode</th>\n",
       "      <th>centroid</th>\n",
       "      <th>meanfun</th>\n",
       "      <th>minfun</th>\n",
       "      <th>maxfun</th>\n",
       "      <th>meandom</th>\n",
       "      <th>mindom</th>\n",
       "      <th>maxdom</th>\n",
       "      <th>dfrange</th>\n",
       "      <th>modindx</th>\n",
       "    </tr>\n",
       "  </thead>\n",
       "  <tbody>\n",
       "    <tr>\n",
       "      <th>0</th>\n",
       "      <td>-4.049248</td>\n",
       "      <td>0.427355</td>\n",
       "      <td>-4.224901</td>\n",
       "      <td>-2.576102</td>\n",
       "      <td>-5.693607</td>\n",
       "      <td>-0.214778</td>\n",
       "      <td>2.293306</td>\n",
       "      <td>1.762946</td>\n",
       "      <td>-0.039083</td>\n",
       "      <td>0.471575</td>\n",
       "      <td>-2.141210</td>\n",
       "      <td>-4.049248</td>\n",
       "      <td>-1.812038</td>\n",
       "      <td>-1.097998</td>\n",
       "      <td>0.565959</td>\n",
       "      <td>-1.564205</td>\n",
       "      <td>-0.708404</td>\n",
       "      <td>-1.431422</td>\n",
       "      <td>-1.419137</td>\n",
       "      <td>-1.454772</td>\n",
       "    </tr>\n",
       "    <tr>\n",
       "      <th>1</th>\n",
       "      <td>-3.841053</td>\n",
       "      <td>0.611669</td>\n",
       "      <td>-3.999293</td>\n",
       "      <td>-2.486885</td>\n",
       "      <td>-5.588987</td>\n",
       "      <td>-0.258485</td>\n",
       "      <td>4.548056</td>\n",
       "      <td>4.433008</td>\n",
       "      <td>-0.065236</td>\n",
       "      <td>0.594431</td>\n",
       "      <td>-2.141210</td>\n",
       "      <td>-3.841053</td>\n",
       "      <td>-1.079594</td>\n",
       "      <td>-1.091533</td>\n",
       "      <td>-0.294030</td>\n",
       "      <td>-1.561916</td>\n",
       "      <td>-0.708404</td>\n",
       "      <td>-1.418107</td>\n",
       "      <td>-1.405818</td>\n",
       "      <td>-1.014103</td>\n",
       "    </tr>\n",
       "    <tr>\n",
       "      <th>2</th>\n",
       "      <td>-3.463066</td>\n",
       "      <td>1.603848</td>\n",
       "      <td>-4.095851</td>\n",
       "      <td>-2.706986</td>\n",
       "      <td>-3.928699</td>\n",
       "      <td>0.909326</td>\n",
       "      <td>6.513656</td>\n",
       "      <td>7.326207</td>\n",
       "      <td>-1.083730</td>\n",
       "      <td>0.398261</td>\n",
       "      <td>-2.141210</td>\n",
       "      <td>-3.463066</td>\n",
       "      <td>-1.365368</td>\n",
       "      <td>-1.100397</td>\n",
       "      <td>0.410480</td>\n",
       "      <td>-1.563866</td>\n",
       "      <td>-0.708404</td>\n",
       "      <td>-1.429203</td>\n",
       "      <td>-1.416917</td>\n",
       "      <td>-1.065344</td>\n",
       "    </tr>\n",
       "    <tr>\n",
       "      <th>3</th>\n",
       "      <td>-0.992157</td>\n",
       "      <td>0.899998</td>\n",
       "      <td>-0.759454</td>\n",
       "      <td>-0.901418</td>\n",
       "      <td>-0.711205</td>\n",
       "      <td>0.632690</td>\n",
       "      <td>-0.449858</td>\n",
       "      <td>-0.240099</td>\n",
       "      <td>1.516383</td>\n",
       "      <td>1.797340</td>\n",
       "      <td>-1.054576</td>\n",
       "      <td>-0.992157</td>\n",
       "      <td>-1.666966</td>\n",
       "      <td>-0.988934</td>\n",
       "      <td>-0.294030</td>\n",
       "      <td>-1.195367</td>\n",
       "      <td>-0.708404</td>\n",
       "      <td>-1.273867</td>\n",
       "      <td>-1.261532</td>\n",
       "      <td>0.614286</td>\n",
       "    </tr>\n",
       "    <tr>\n",
       "      <th>4</th>\n",
       "      <td>-1.530640</td>\n",
       "      <td>1.322561</td>\n",
       "      <td>-1.676948</td>\n",
       "      <td>-1.268395</td>\n",
       "      <td>-0.792029</td>\n",
       "      <td>1.005588</td>\n",
       "      <td>-0.480911</td>\n",
       "      <td>-0.238940</td>\n",
       "      <td>1.708336</td>\n",
       "      <td>2.114740</td>\n",
       "      <td>-0.790514</td>\n",
       "      <td>-1.530640</td>\n",
       "      <td>-1.127233</td>\n",
       "      <td>-1.034015</td>\n",
       "      <td>0.260185</td>\n",
       "      <td>-0.221660</td>\n",
       "      <td>-0.708404</td>\n",
       "      <td>0.124154</td>\n",
       "      <td>0.136933</td>\n",
       "      <td>0.289046</td>\n",
       "    </tr>\n",
       "  </tbody>\n",
       "</table>\n",
       "</div>"
      ],
      "text/plain": [
       "   meanfreq       sd    median       Q25       Q75       IQR      skew  \\\n",
       "0 -4.049248 0.427355 -4.224901 -2.576102 -5.693607 -0.214778  2.293306   \n",
       "1 -3.841053 0.611669 -3.999293 -2.486885 -5.588987 -0.258485  4.548056   \n",
       "2 -3.463066 1.603848 -4.095851 -2.706986 -3.928699  0.909326  6.513656   \n",
       "3 -0.992157 0.899998 -0.759454 -0.901418 -0.711205  0.632690 -0.449858   \n",
       "4 -1.530640 1.322561 -1.676948 -1.268395 -0.792029  1.005588 -0.480911   \n",
       "\n",
       "       kurt    sp.ent      sfm      mode  centroid   meanfun    minfun  \\\n",
       "0  1.762946 -0.039083 0.471575 -2.141210 -4.049248 -1.812038 -1.097998   \n",
       "1  4.433008 -0.065236 0.594431 -2.141210 -3.841053 -1.079594 -1.091533   \n",
       "2  7.326207 -1.083730 0.398261 -2.141210 -3.463066 -1.365368 -1.100397   \n",
       "3 -0.240099  1.516383 1.797340 -1.054576 -0.992157 -1.666966 -0.988934   \n",
       "4 -0.238940  1.708336 2.114740 -0.790514 -1.530640 -1.127233 -1.034015   \n",
       "\n",
       "     maxfun   meandom    mindom    maxdom   dfrange   modindx  \n",
       "0  0.565959 -1.564205 -0.708404 -1.431422 -1.419137 -1.454772  \n",
       "1 -0.294030 -1.561916 -0.708404 -1.418107 -1.405818 -1.014103  \n",
       "2  0.410480 -1.563866 -0.708404 -1.429203 -1.416917 -1.065344  \n",
       "3 -0.294030 -1.195367 -0.708404 -1.273867 -1.261532  0.614286  \n",
       "4  0.260185 -0.221660 -0.708404  0.124154  0.136933  0.289046  "
      ]
     },
     "execution_count": 207,
     "metadata": {},
     "output_type": "execute_result"
    }
   ],
   "source": [
    "X.head()"
   ]
  },
  {
   "cell_type": "markdown",
   "metadata": {},
   "source": [
    "## Label Encoding Target Variable"
   ]
  },
  {
   "cell_type": "code",
   "execution_count": 208,
   "metadata": {
    "ExecuteTime": {
     "end_time": "2021-06-29T07:37:07.741497Z",
     "start_time": "2021-06-29T07:37:07.727522Z"
    }
   },
   "outputs": [],
   "source": [
    "# Mapping values of Label Male as 1 and female as 0\n",
    "y = y.map({'male':1,'female':0})"
   ]
  },
  {
   "cell_type": "code",
   "execution_count": 209,
   "metadata": {
    "ExecuteTime": {
     "end_time": "2021-06-29T07:37:07.769443Z",
     "start_time": "2021-06-29T07:37:07.747485Z"
    },
    "scrolled": false
   },
   "outputs": [
    {
     "data": {
      "text/plain": [
       "1    1584\n",
       "0    1584\n",
       "Name: label, dtype: int64"
      ]
     },
     "execution_count": 209,
     "metadata": {},
     "output_type": "execute_result"
    }
   ],
   "source": [
    "y.value_counts()"
   ]
  },
  {
   "cell_type": "markdown",
   "metadata": {
    "ExecuteTime": {
     "end_time": "2021-06-28T14:07:15.337104Z",
     "start_time": "2021-06-28T14:07:15.330604Z"
    }
   },
   "source": [
    "## Feature Selection using Random Forest"
   ]
  },
  {
   "cell_type": "code",
   "execution_count": 210,
   "metadata": {
    "ExecuteTime": {
     "end_time": "2021-06-29T07:37:07.793398Z",
     "start_time": "2021-06-29T07:37:07.775936Z"
    }
   },
   "outputs": [],
   "source": [
    "#-------------------------------------------------------------------------------------------------------------------------------\n",
    "from random import randint                                          # Importing to generate random integers\n",
    "from sklearn.feature_selection import SelectFromModel               # To select features from model using Yellow bricks\n",
    "from yellowbrick.model_selection import FeatureImportances          # To select important features out of the model\n",
    "#-------------------------------------------------------------------------------------------------------------------------------\n",
    "from sklearn.metrics import precision_recall_curve                  # For precision and recall metric estimation\n",
    "from sklearn.metrics import classification_report                   # To generate complete report of evaluation metrics\n",
    "from sklearn.metrics import plot_confusion_matrix                   # To plot confusion matrix \n",
    "#-------------------------------------------------------------------------------------------------------------------------------\n",
    "from sklearn.model_selection import train_test_split                # To split the data in training and testing part     \n",
    "from sklearn.naive_bayes import GaussianNB                          # To create a naive bayes model using algorithm\n",
    "from sklearn.ensemble import RandomForestClassifier                 # To create a random forest model using algorithm\n",
    "from sklearn.linear_model import LogisticRegression\n",
    "from sklearn.tree import DecisionTreeClassifier\n",
    "from sklearn.model_selection import GridSearchCV, RandomizedSearchCV\n",
    "from sklearn.metrics import accuracy_score, precision_score, recall_score, f1_score, confusion_matrix, classification_report"
   ]
  },
  {
   "cell_type": "code",
   "execution_count": 211,
   "metadata": {
    "ExecuteTime": {
     "end_time": "2021-06-29T07:37:08.761104Z",
     "start_time": "2021-06-29T07:37:07.799389Z"
    }
   },
   "outputs": [
    {
     "name": "stdout",
     "output_type": "stream",
     "text": [
      "Total Features Selected are 4\n",
      "Threshold set by Model: 0.05\n",
      "Features: ['sd', 'Q25', 'IQR', 'meanfun']\n"
     ]
    }
   ],
   "source": [
    "selector = SelectFromModel(RandomForestClassifier(n_estimators = 100, random_state = 42, n_jobs = -1))\n",
    "selector.fit(X, y)\n",
    "\n",
    "# Extracting list of important features\n",
    "selected_feat = X.columns[(selector.get_support())].tolist()\n",
    "\n",
    "print('Total Features Selected are', len(selected_feat))\n",
    "\n",
    "# Estimated by taking mean(default) of feature importance\n",
    "print('Threshold set by Model:', np.round(selector.threshold_, decimals = 2))\n",
    "print('Features:', selected_feat)"
   ]
  },
  {
   "cell_type": "code",
   "execution_count": 212,
   "metadata": {
    "ExecuteTime": {
     "end_time": "2021-06-29T07:37:10.390075Z",
     "start_time": "2021-06-29T07:37:08.767091Z"
    }
   },
   "outputs": [
    {
     "data": {
      "image/png": "[encoded data removed]",
      "text/plain": [
       "<Figure size 1440x864 with 1 Axes>"
      ]
     },
     "metadata": {
      "needs_background": "light"
     },
     "output_type": "display_data"
    }
   ],
   "source": [
    "figure = plt.figure(figsize = [20, 12])\n",
    "\n",
    "# If you don't want relative importance, use relative = False in below method\n",
    "viz = FeatureImportances(selector.estimator, relative = False)\n",
    "viz.fit(X, y)\n",
    "\n",
    "plt.xlabel('Relative Importance', size = 14)\n",
    "plt.ylabel('Features', size = 14)\n",
    "plt.title(label = 'Feature Importances', size = 16)\n",
    "plt.show()"
   ]
  },
  {
   "cell_type": "markdown",
   "metadata": {},
   "source": [
    "- Here we can see the featuers selected by Random Forest are Meanfun, IQR, Q25 and SD"
   ]
  },
  {
   "cell_type": "markdown",
   "metadata": {},
   "source": [
    "## PCA"
   ]
  },
  {
   "cell_type": "code",
   "execution_count": 213,
   "metadata": {
    "ExecuteTime": {
     "end_time": "2021-06-29T07:37:10.402052Z",
     "start_time": "2021-06-29T07:37:10.394568Z"
    }
   },
   "outputs": [],
   "source": [
    "from sklearn.decomposition import PCA"
   ]
  },
  {
   "cell_type": "code",
   "execution_count": 214,
   "metadata": {
    "ExecuteTime": {
     "end_time": "2021-06-29T07:37:10.437989Z",
     "start_time": "2021-06-29T07:37:10.416027Z"
    }
   },
   "outputs": [],
   "source": [
    "# specifying 95% variance (0.95) to be explained by our PCA model out of a total of 100%.\n",
    "pca = PCA(20, random_state=0).fit(X)"
   ]
  },
  {
   "cell_type": "code",
   "execution_count": 215,
   "metadata": {
    "ExecuteTime": {
     "end_time": "2021-06-29T07:37:10.457950Z",
     "start_time": "2021-06-29T07:37:10.447470Z"
    }
   },
   "outputs": [],
   "source": [
    "# Plotting the variance graph to show the amount of variance explained with respect to the number of features.\n",
    "var = np.cumsum(np.round(pca.explained_variance_ratio_, decimals=3) * 100)"
   ]
  },
  {
   "cell_type": "code",
   "execution_count": 216,
   "metadata": {
    "ExecuteTime": {
     "end_time": "2021-06-29T07:37:10.924582Z",
     "start_time": "2021-06-29T07:37:10.463442Z"
    }
   },
   "outputs": [
    {
     "data": {
      "text/plain": [
       "<contextlib._GeneratorContextManager at 0x19525106df0>"
      ]
     },
     "execution_count": 216,
     "metadata": {},
     "output_type": "execute_result"
    },
    {
     "data": {
      "image/png": "[encoded data removed]",
      "text/plain": [
       "<Figure size 432x288 with 1 Axes>"
      ]
     },
     "metadata": {
      "needs_background": "light"
     },
     "output_type": "display_data"
    }
   ],
   "source": [
    "plt.plot(var)\n",
    "plt.ylabel('% Variance Explained')\n",
    "plt.xlabel('Number of Features')\n",
    "plt.title('PCA Analysis')\n",
    "plt.ylim(30, 100.5)\n",
    "plt.style.context('seaborn-whitegrid')"
   ]
  },
  {
   "cell_type": "code",
   "execution_count": 254,
   "metadata": {
    "ExecuteTime": {
     "end_time": "2021-06-29T08:19:12.753209Z",
     "start_time": "2021-06-29T08:19:12.713288Z"
    },
    "scrolled": true
   },
   "outputs": [
    {
     "name": "stdout",
     "output_type": "stream",
     "text": [
      "(3168, 9)\n"
     ]
    }
   ],
   "source": [
    "pca = PCA(n_components=9, random_state=0)\n",
    "pca.fit(X)\n",
    "\n",
    "X_pca = pca.transform(X)\n",
    "print(X_pca.shape)"
   ]
  },
  {
   "cell_type": "code",
   "execution_count": 255,
   "metadata": {
    "ExecuteTime": {
     "end_time": "2021-06-29T08:19:26.391754Z",
     "start_time": "2021-06-29T08:19:26.371291Z"
    }
   },
   "outputs": [],
   "source": [
    "X_pca = pd.DataFrame(X_pca)"
   ]
  },
  {
   "cell_type": "markdown",
   "metadata": {
    "ExecuteTime": {
     "end_time": "2021-06-28T14:26:59.945051Z",
     "start_time": "2021-06-28T14:26:59.940559Z"
    }
   },
   "source": [
    "## New X as per Selected Features & PCA"
   ]
  },
  {
   "cell_type": "code",
   "execution_count": 256,
   "metadata": {
    "ExecuteTime": {
     "end_time": "2021-06-29T08:19:27.964180Z",
     "start_time": "2021-06-29T08:19:27.947199Z"
    }
   },
   "outputs": [
    {
     "data": {
      "text/plain": [
       "\"select_feat2 = ['meanfreq',\\n 'sd',\\n 'median',\\n 'Q25',\\n 'IQR',\\n 'sp.ent',\\n 'sfm',\\n 'mode',\\n 'centroid',\\n 'meanfun',]\""
      ]
     },
     "execution_count": 256,
     "metadata": {},
     "output_type": "execute_result"
    }
   ],
   "source": [
    "'''select_feat2 = ['meanfreq',\n",
    " 'sd',\n",
    " 'median',\n",
    " 'Q25',\n",
    " 'IQR',\n",
    " 'sp.ent',\n",
    " 'sfm',\n",
    " 'mode',\n",
    " 'centroid',\n",
    " 'meanfun',]'''"
   ]
  },
  {
   "cell_type": "code",
   "execution_count": 257,
   "metadata": {
    "ExecuteTime": {
     "end_time": "2021-06-29T08:19:28.766518Z",
     "start_time": "2021-06-29T08:19:28.757539Z"
    }
   },
   "outputs": [],
   "source": [
    "X_SF = voice_df[selected_feat]"
   ]
  },
  {
   "cell_type": "code",
   "execution_count": 258,
   "metadata": {
    "ExecuteTime": {
     "end_time": "2021-06-29T08:19:29.533860Z",
     "start_time": "2021-06-29T08:19:29.515880Z"
    },
    "scrolled": true
   },
   "outputs": [
    {
     "data": {
      "text/html": [
       "<div>\n",
       "<style scoped>\n",
       "    .dataframe tbody tr th:only-of-type {\n",
       "        vertical-align: middle;\n",
       "    }\n",
       "\n",
       "    .dataframe tbody tr th {\n",
       "        vertical-align: top;\n",
       "    }\n",
       "\n",
       "    .dataframe thead th {\n",
       "        text-align: right;\n",
       "    }\n",
       "</style>\n",
       "<table border=\"1\" class=\"dataframe\">\n",
       "  <thead>\n",
       "    <tr style=\"text-align: right;\">\n",
       "      <th></th>\n",
       "      <th>sd</th>\n",
       "      <th>Q25</th>\n",
       "      <th>IQR</th>\n",
       "      <th>meanfun</th>\n",
       "    </tr>\n",
       "  </thead>\n",
       "  <tbody>\n",
       "    <tr>\n",
       "      <th>0</th>\n",
       "      <td>0.064241</td>\n",
       "      <td>0.015071</td>\n",
       "      <td>0.075122</td>\n",
       "      <td>0.084279</td>\n",
       "    </tr>\n",
       "    <tr>\n",
       "      <th>1</th>\n",
       "      <td>0.067310</td>\n",
       "      <td>0.019414</td>\n",
       "      <td>0.073252</td>\n",
       "      <td>0.107937</td>\n",
       "    </tr>\n",
       "    <tr>\n",
       "      <th>2</th>\n",
       "      <td>0.083829</td>\n",
       "      <td>0.008701</td>\n",
       "      <td>0.123207</td>\n",
       "      <td>0.098706</td>\n",
       "    </tr>\n",
       "    <tr>\n",
       "      <th>3</th>\n",
       "      <td>0.072111</td>\n",
       "      <td>0.096582</td>\n",
       "      <td>0.111374</td>\n",
       "      <td>0.088965</td>\n",
       "    </tr>\n",
       "    <tr>\n",
       "      <th>4</th>\n",
       "      <td>0.079146</td>\n",
       "      <td>0.078720</td>\n",
       "      <td>0.127325</td>\n",
       "      <td>0.106398</td>\n",
       "    </tr>\n",
       "  </tbody>\n",
       "</table>\n",
       "</div>"
      ],
      "text/plain": [
       "        sd      Q25      IQR  meanfun\n",
       "0 0.064241 0.015071 0.075122 0.084279\n",
       "1 0.067310 0.019414 0.073252 0.107937\n",
       "2 0.083829 0.008701 0.123207 0.098706\n",
       "3 0.072111 0.096582 0.111374 0.088965\n",
       "4 0.079146 0.078720 0.127325 0.106398"
      ]
     },
     "execution_count": 258,
     "metadata": {},
     "output_type": "execute_result"
    }
   ],
   "source": [
    "X_SF.head()"
   ]
  },
  {
   "cell_type": "code",
   "execution_count": 259,
   "metadata": {
    "ExecuteTime": {
     "end_time": "2021-06-29T08:19:30.251266Z",
     "start_time": "2021-06-29T08:19:30.235296Z"
    }
   },
   "outputs": [],
   "source": [
    "#X_SF2 = voice_df[select_feat2]"
   ]
  },
  {
   "cell_type": "code",
   "execution_count": 260,
   "metadata": {
    "ExecuteTime": {
     "end_time": "2021-06-29T08:19:30.967863Z",
     "start_time": "2021-06-29T08:19:30.963368Z"
    },
    "scrolled": true
   },
   "outputs": [],
   "source": [
    "#X_SF2.head()"
   ]
  },
  {
   "cell_type": "code",
   "execution_count": 261,
   "metadata": {
    "ExecuteTime": {
     "end_time": "2021-06-29T08:19:31.675789Z",
     "start_time": "2021-06-29T08:19:31.647342Z"
    }
   },
   "outputs": [
    {
     "data": {
      "text/html": [
       "<div>\n",
       "<style scoped>\n",
       "    .dataframe tbody tr th:only-of-type {\n",
       "        vertical-align: middle;\n",
       "    }\n",
       "\n",
       "    .dataframe tbody tr th {\n",
       "        vertical-align: top;\n",
       "    }\n",
       "\n",
       "    .dataframe thead th {\n",
       "        text-align: right;\n",
       "    }\n",
       "</style>\n",
       "<table border=\"1\" class=\"dataframe\">\n",
       "  <thead>\n",
       "    <tr style=\"text-align: right;\">\n",
       "      <th></th>\n",
       "      <th>0</th>\n",
       "      <th>1</th>\n",
       "      <th>2</th>\n",
       "      <th>3</th>\n",
       "      <th>4</th>\n",
       "      <th>5</th>\n",
       "      <th>6</th>\n",
       "      <th>7</th>\n",
       "      <th>8</th>\n",
       "    </tr>\n",
       "  </thead>\n",
       "  <tbody>\n",
       "    <tr>\n",
       "      <th>0</th>\n",
       "      <td>8.208516</td>\n",
       "      <td>2.164488</td>\n",
       "      <td>1.959784</td>\n",
       "      <td>5.452417</td>\n",
       "      <td>0.930851</td>\n",
       "      <td>-1.202176</td>\n",
       "      <td>-1.239370</td>\n",
       "      <td>-1.555728</td>\n",
       "      <td>-1.815147</td>\n",
       "    </tr>\n",
       "    <tr>\n",
       "      <th>1</th>\n",
       "      <td>8.671892</td>\n",
       "      <td>3.854627</td>\n",
       "      <td>4.107208</td>\n",
       "      <td>5.079575</td>\n",
       "      <td>0.411480</td>\n",
       "      <td>-0.120161</td>\n",
       "      <td>-0.880189</td>\n",
       "      <td>-0.899986</td>\n",
       "      <td>-0.390545</td>\n",
       "    </tr>\n",
       "    <tr>\n",
       "      <th>2</th>\n",
       "      <td>9.111169</td>\n",
       "      <td>4.519140</td>\n",
       "      <td>7.528252</td>\n",
       "      <td>3.464543</td>\n",
       "      <td>-0.049165</td>\n",
       "      <td>1.219385</td>\n",
       "      <td>-0.268173</td>\n",
       "      <td>-0.187280</td>\n",
       "      <td>-0.457554</td>\n",
       "    </tr>\n",
       "    <tr>\n",
       "      <th>3</th>\n",
       "      <td>4.109261</td>\n",
       "      <td>-0.562341</td>\n",
       "      <td>-1.253138</td>\n",
       "      <td>-0.667666</td>\n",
       "      <td>0.003349</td>\n",
       "      <td>-0.965539</td>\n",
       "      <td>-0.348339</td>\n",
       "      <td>0.193231</td>\n",
       "      <td>-0.575210</td>\n",
       "    </tr>\n",
       "    <tr>\n",
       "      <th>4</th>\n",
       "      <td>4.057255</td>\n",
       "      <td>-2.272709</td>\n",
       "      <td>-0.576060</td>\n",
       "      <td>0.962292</td>\n",
       "      <td>-0.183624</td>\n",
       "      <td>-0.493363</td>\n",
       "      <td>0.411477</td>\n",
       "      <td>0.250032</td>\n",
       "      <td>-0.109875</td>\n",
       "    </tr>\n",
       "  </tbody>\n",
       "</table>\n",
       "</div>"
      ],
      "text/plain": [
       "         0         1         2         3         4         5         6  \\\n",
       "0 8.208516  2.164488  1.959784  5.452417  0.930851 -1.202176 -1.239370   \n",
       "1 8.671892  3.854627  4.107208  5.079575  0.411480 -0.120161 -0.880189   \n",
       "2 9.111169  4.519140  7.528252  3.464543 -0.049165  1.219385 -0.268173   \n",
       "3 4.109261 -0.562341 -1.253138 -0.667666  0.003349 -0.965539 -0.348339   \n",
       "4 4.057255 -2.272709 -0.576060  0.962292 -0.183624 -0.493363  0.411477   \n",
       "\n",
       "          7         8  \n",
       "0 -1.555728 -1.815147  \n",
       "1 -0.899986 -0.390545  \n",
       "2 -0.187280 -0.457554  \n",
       "3  0.193231 -0.575210  \n",
       "4  0.250032 -0.109875  "
      ]
     },
     "execution_count": 261,
     "metadata": {},
     "output_type": "execute_result"
    }
   ],
   "source": [
    "X_pca.head()"
   ]
  },
  {
   "cell_type": "markdown",
   "metadata": {},
   "source": [
    "# Define Models"
   ]
  },
  {
   "cell_type": "markdown",
   "metadata": {},
   "source": [
    "## Train Test Split"
   ]
  },
  {
   "cell_type": "markdown",
   "metadata": {},
   "source": [
    "**We will run various algorithms on data with all features and selected features.** "
   ]
  },
  {
   "cell_type": "code",
   "execution_count": 262,
   "metadata": {
    "ExecuteTime": {
     "end_time": "2021-06-29T08:19:34.322770Z",
     "start_time": "2021-06-29T08:19:34.299301Z"
    }
   },
   "outputs": [
    {
     "name": "stdout",
     "output_type": "stream",
     "text": [
      "Train dataset shape: (2534, 20) (2534,)\n",
      "Test dataset shape: (634, 20) (634,)\n"
     ]
    }
   ],
   "source": [
    "# Splitting the X\n",
    "X_train,X_test,y_train,y_test=train_test_split(X,y,test_size=0.2,random_state=0)\n",
    "print('Train dataset shape: {} {}'.format(X_train.shape, y_train.shape))\n",
    "print('Test dataset shape: {} {}'.format(X_test.shape, y_test.shape))"
   ]
  },
  {
   "cell_type": "code",
   "execution_count": 263,
   "metadata": {
    "ExecuteTime": {
     "end_time": "2021-06-29T08:19:35.828267Z",
     "start_time": "2021-06-29T08:19:35.811800Z"
    }
   },
   "outputs": [
    {
     "name": "stdout",
     "output_type": "stream",
     "text": [
      "Train dataset shape: (2534, 4) (2534,)\n",
      "Test dataset shape: (634, 4) (634,)\n"
     ]
    }
   ],
   "source": [
    "# Splitting the X with selected features\n",
    "X_SF_train,X_SF_test,y_SF_train,y_SF_test=train_test_split(X_SF,y,test_size=0.2,random_state=0)\n",
    "print('Train dataset shape: {} {}'.format(X_SF_train.shape, y_SF_train.shape))\n",
    "print('Test dataset shape: {} {}'.format(X_SF_test.shape, y_SF_test.shape))"
   ]
  },
  {
   "cell_type": "code",
   "execution_count": 264,
   "metadata": {
    "ExecuteTime": {
     "end_time": "2021-06-29T08:19:36.660269Z",
     "start_time": "2021-06-29T08:19:36.643315Z"
    }
   },
   "outputs": [
    {
     "name": "stdout",
     "output_type": "stream",
     "text": [
      "Train dataset shape: (2534, 9) (2534,)\n",
      "Test dataset shape: (634, 9) (634,)\n"
     ]
    }
   ],
   "source": [
    "# Splitting the X with 10 selected features\n",
    "X_SF2_train,X_SF2_test,y_SF2_train,y_SF2_test=train_test_split(X_pca,y,test_size=0.2,random_state=0)\n",
    "print('Train dataset shape: {} {}'.format(X_SF2_train.shape, y_SF2_train.shape))\n",
    "print('Test dataset shape: {} {}'.format(X_SF2_test.shape, y_SF2_test.shape))"
   ]
  },
  {
   "cell_type": "markdown",
   "metadata": {},
   "source": [
    "## Training Data with Various ALgotithms"
   ]
  },
  {
   "cell_type": "code",
   "execution_count": 265,
   "metadata": {
    "ExecuteTime": {
     "end_time": "2021-06-29T08:19:39.072295Z",
     "start_time": "2021-06-29T08:19:39.067318Z"
    }
   },
   "outputs": [],
   "source": [
    "Models = []\n",
    "Acc_list = []\n",
    "Acc_list_SF = []\n",
    "Acc_list_SF2 = []"
   ]
  },
  {
   "cell_type": "code",
   "execution_count": 266,
   "metadata": {
    "ExecuteTime": {
     "end_time": "2021-06-29T08:19:39.896278Z",
     "start_time": "2021-06-29T08:19:39.882807Z"
    }
   },
   "outputs": [],
   "source": [
    "import time\n",
    "def fit_pred_acc(model,name):\n",
    "    Models.append(name)\n",
    "    start_time1 = time.time()\n",
    "    model.fit(X_train,y_train)\n",
    "    end_time1 = time.time()\n",
    "    pred1 = model.predict(X_test)\n",
    "    print('Accuracy with All features:',accuracy_score(y_test,pred1))\n",
    "    print('Time to fit: ',end_time1-start_time1)\n",
    "    Acc_list.append(accuracy_score(y_test,pred1))\n",
    "    \n",
    "    start_time2 = time.time()\n",
    "    model.fit(X_SF_train,y_SF_train)\n",
    "    end_time2 = time.time()\n",
    "    pred2 = model.predict(X_SF_test)\n",
    "    print('Accuracy with RF Selected Features:',accuracy_score(y_SF_test,pred2))\n",
    "    print('Time to fit: ',end_time2-start_time2)\n",
    "    Acc_list_SF.append(accuracy_score(y_SF_test,pred2))\n",
    "    \n",
    "    start_time3 = time.time()\n",
    "    model.fit(X_SF2_train,y_SF2_train)\n",
    "    end_time3 = time.time()\n",
    "    pred3 = model.predict(X_SF2_test)\n",
    "    print('Accuracy with PCA Selected Features:',accuracy_score(y_SF2_test,pred3))\n",
    "    print('Time to fit: ',end_time3-start_time3)\n",
    "    Acc_list_SF2.append(accuracy_score(y_SF2_test,pred3))"
   ]
  },
  {
   "cell_type": "markdown",
   "metadata": {
    "ExecuteTime": {
     "end_time": "2021-06-28T14:45:13.986407Z",
     "start_time": "2021-06-28T14:45:13.981421Z"
    }
   },
   "source": [
    "### Logistic Regression"
   ]
  },
  {
   "cell_type": "code",
   "execution_count": 267,
   "metadata": {
    "ExecuteTime": {
     "end_time": "2021-06-29T08:19:42.016661Z",
     "start_time": "2021-06-29T08:19:41.890898Z"
    }
   },
   "outputs": [
    {
     "name": "stdout",
     "output_type": "stream",
     "text": [
      "Accuracy with All features: 0.973186119873817\n",
      "Time to fit:  0.04741024971008301\n",
      "Accuracy with RF Selected Features: 0.9227129337539433\n",
      "Time to fit:  0.019962787628173828\n",
      "Accuracy with PCA Selected Features: 0.9684542586750788\n",
      "Time to fit:  0.031940460205078125\n"
     ]
    }
   ],
   "source": [
    "Model_Log_reg = LogisticRegression()\n",
    "fit_pred_acc(Model_Log_reg,'Logistic Regression')"
   ]
  },
  {
   "cell_type": "markdown",
   "metadata": {},
   "source": [
    "### Decision Tree With GridSearchCV"
   ]
  },
  {
   "cell_type": "code",
   "execution_count": 268,
   "metadata": {
    "ExecuteTime": {
     "end_time": "2021-06-29T08:19:46.691794Z",
     "start_time": "2021-06-29T08:19:46.683327Z"
    },
    "scrolled": true
   },
   "outputs": [],
   "source": [
    "DT = DecisionTreeClassifier(random_state = 0)\n",
    "tree_para = [{'criterion':['gini','entropy'],'max_depth': range(2,50),'max_features': ['sqrt', 'log2', None] }]\n",
    "Model_DT = GridSearchCV(DT,tree_para, cv=5, refit='AUC')"
   ]
  },
  {
   "cell_type": "code",
   "execution_count": 269,
   "metadata": {
    "ExecuteTime": {
     "end_time": "2021-06-29T08:21:16.806447Z",
     "start_time": "2021-06-29T08:19:47.386809Z"
    }
   },
   "outputs": [
    {
     "name": "stdout",
     "output_type": "stream",
     "text": [
      "Accuracy with All features: 0.9621451104100947\n",
      "Time to fit:  39.38037872314453\n",
      "Accuracy with RF Selected Features: 0.9574132492113565\n",
      "Time to fit:  19.513269662857056\n",
      "Accuracy with PCA Selected Features: 0.9511041009463722\n",
      "Time to fit:  30.508347988128662\n"
     ]
    }
   ],
   "source": [
    "fit_pred_acc(Model_DT,'Decision Tree')"
   ]
  },
  {
   "cell_type": "markdown",
   "metadata": {},
   "source": [
    "### Random Forest Classifier with RandomSearchCV"
   ]
  },
  {
   "cell_type": "code",
   "execution_count": 270,
   "metadata": {
    "ExecuteTime": {
     "end_time": "2021-06-29T08:21:16.828410Z",
     "start_time": "2021-06-29T08:21:16.811438Z"
    },
    "scrolled": true
   },
   "outputs": [],
   "source": [
    "from scipy.stats import randint as sp_randint\n",
    "RF_Classifier = RandomForestClassifier(random_state = 0)\n",
    "param_dist = {\"max_depth\": range(2,12),\n",
    "              \"min_samples_split\": sp_randint(2, 11),\n",
    "              \"min_samples_leaf\": sp_randint(1, 11),\n",
    "              \"bootstrap\": [True, False],\n",
    "              \"n_estimators\": [100, 400, 700],\n",
    "              \"criterion\" : [\"gini\", \"entropy\"],\n",
    "              'max_features': ['sqrt', 'log2', None]\n",
    "             }\n",
    "Model_RF = RandomizedSearchCV(RF_Classifier, param_distributions = param_dist,\n",
    "                                   n_iter = 50,\n",
    "                                   n_jobs = -1)"
   ]
  },
  {
   "cell_type": "code",
   "execution_count": 271,
   "metadata": {
    "ExecuteTime": {
     "end_time": "2021-06-29T08:59:32.505942Z",
     "start_time": "2021-06-29T08:21:16.837391Z"
    }
   },
   "outputs": [
    {
     "name": "stdout",
     "output_type": "stream",
     "text": [
      "Accuracy with All features: 0.9779179810725552\n",
      "Time to fit:  610.8518805503845\n",
      "Accuracy with RF Selected Features: 0.9747634069400631\n",
      "Time to fit:  227.5724778175354\n",
      "Accuracy with PCA Selected Features: 0.9637223974763407\n",
      "Time to fit:  1456.843449831009\n"
     ]
    }
   ],
   "source": [
    "fit_pred_acc(Model_RF,'Random Forest')"
   ]
  },
  {
   "cell_type": "markdown",
   "metadata": {},
   "source": [
    "### Naive Bayes "
   ]
  },
  {
   "cell_type": "code",
   "execution_count": 272,
   "metadata": {
    "ExecuteTime": {
     "end_time": "2021-06-29T08:59:32.573316Z",
     "start_time": "2021-06-29T08:59:32.511931Z"
    }
   },
   "outputs": [
    {
     "name": "stdout",
     "output_type": "stream",
     "text": [
      "Accuracy with All features: 0.8848580441640379\n",
      "Time to fit:  0.00998234748840332\n",
      "Accuracy with RF Selected Features: 0.9574132492113565\n",
      "Time to fit:  0.0069866180419921875\n",
      "Accuracy with PCA Selected Features: 0.9305993690851735\n",
      "Time to fit:  0.004492521286010742\n"
     ]
    }
   ],
   "source": [
    "Model_NB = GaussianNB()\n",
    "fit_pred_acc(Model_NB,'Naive Bayes')"
   ]
  },
  {
   "cell_type": "markdown",
   "metadata": {},
   "source": [
    "### K-Nearest Neighbours using RandomSearchCV"
   ]
  },
  {
   "cell_type": "code",
   "execution_count": 273,
   "metadata": {
    "ExecuteTime": {
     "end_time": "2021-06-29T08:59:46.056272Z",
     "start_time": "2021-06-29T08:59:32.579306Z"
    }
   },
   "outputs": [
    {
     "name": "stdout",
     "output_type": "stream",
     "text": [
      "Accuracy with All features: 0.9842271293375394\n",
      "Time to fit:  6.109152793884277\n",
      "Accuracy with RF Selected Features: 0.9763406940063092\n",
      "Time to fit:  3.436615467071533\n",
      "Accuracy with PCA Selected Features: 0.9747634069400631\n",
      "Time to fit:  3.59033203125\n"
     ]
    }
   ],
   "source": [
    "from sklearn.neighbors import KNeighborsClassifier\n",
    "\n",
    "param_dist = {\"n_neighbors\": range(1, 30), \"algorithm\": [\"auto\", \"ball_tree\"],\n",
    "              \"leaf_size\":  2 ** np.arange(10),\n",
    "              \"metric\": [\"euclidean\", \"manhattan\", \"minkowski\", \"chebyshev\"]\n",
    "              }\n",
    "n_iter_search = 25\n",
    "knn_model = KNeighborsClassifier()\n",
    "\n",
    "Model_KNN1= RandomizedSearchCV(knn_model, random_state=0, param_distributions=param_dist,\n",
    "                   n_iter=n_iter_search,\n",
    "                   n_jobs=-1)\n",
    "\n",
    "fit_pred_acc(Model_KNN1, 'KNN with RandomSearchCV')"
   ]
  },
  {
   "cell_type": "markdown",
   "metadata": {},
   "source": [
    "**To pick a good K Value create a for loop that trains various KNN models with different k values.**"
   ]
  },
  {
   "cell_type": "code",
   "execution_count": 274,
   "metadata": {
    "ExecuteTime": {
     "end_time": "2021-06-29T08:59:50.912754Z",
     "start_time": "2021-06-29T08:59:46.060265Z"
    }
   },
   "outputs": [
    {
     "name": "stdout",
     "output_type": "stream",
     "text": [
      "Maximum accuracy and the corresponding value of k for all features is (0.9779179810725552, 6) respectively.\n",
      "Maximum accuracy and the corresponding value of k for 4 Selected features is (0.9779179810725552, 3) respectively.\n",
      "Maximum accuracy and the corresponding value of k for 10 Selected features is (0.973186119873817, 4) respectively.\n"
     ]
    }
   ],
   "source": [
    "knn_acc_list1 = []\n",
    "knn_acc_list2 = []\n",
    "knn_acc_list3 = []\n",
    "for i in range(1,20):\n",
    "    knn_model = KNeighborsClassifier(n_neighbors = i)\n",
    "    knn_model.fit(X_train, y_train)\n",
    "    pred_1 = knn_model.predict(X_test)\n",
    "    \n",
    "    knn_model.fit(X_SF_train, y_SF_train)\n",
    "    pred_2 = knn_model.predict(X_SF_test)\n",
    "    \n",
    "    knn_model.fit(X_SF2_train, y_SF2_train)\n",
    "    pred_3 = knn_model.predict(X_SF2_test)\n",
    "    \n",
    "    knn_acc_list1.append(accuracy_score(y_test, pred_1))\n",
    "    knn_acc_list2.append(accuracy_score(y_SF_test, pred_2))\n",
    "    knn_acc_list3.append(accuracy_score(y_SF2_test, pred_3))\n",
    "    \n",
    "print(\"Maximum accuracy and the corresponding value of k for all features is\", max([(v,i+1) for i,v in enumerate(knn_acc_list1)]),'respectively.')\n",
    "print(\"Maximum accuracy and the corresponding value of k for 4 Selected features is\", max([(v,i+1) for i,v in enumerate(knn_acc_list2)]),'respectively.')\n",
    "print(\"Maximum accuracy and the corresponding value of k for 10 Selected features is\", max([(v,i+1) for i,v in enumerate(knn_acc_list3)]),'respectively.')"
   ]
  },
  {
   "cell_type": "code",
   "execution_count": 275,
   "metadata": {
    "ExecuteTime": {
     "end_time": "2021-06-29T08:59:51.255615Z",
     "start_time": "2021-06-29T08:59:50.917245Z"
    },
    "scrolled": false
   },
   "outputs": [
    {
     "data": {
      "image/png": "[encoded data removed]",
      "text/plain": [
       "<Figure size 1080x432 with 1 Axes>"
      ]
     },
     "metadata": {
      "needs_background": "light"
     },
     "output_type": "display_data"
    }
   ],
   "source": [
    "plt.figure(figsize=(15,6))\n",
    "plt.plot(range(1,20), knn_acc_list1, color='blue', linestyle='dashed', marker='o', markerfacecolor='red', markersize='10')\n",
    "plt.plot(range(1,20), knn_acc_list2, color='red', marker='o', markerfacecolor='blue', markersize='10')\n",
    "plt.plot(range(1,20), knn_acc_list3, color='green', marker='o', markerfacecolor='yellow', markersize='10')\n",
    "\n",
    "plt.xlabel('K')\n",
    "plt.ylabel('Accuracy of model')\n",
    "plt.show()\n"
   ]
  },
  {
   "cell_type": "markdown",
   "metadata": {},
   "source": [
    "**From the Plot We can See Best K Values for All features as 4/5/6 & for Selected Features as 3**\n",
    "\n",
    "\n",
    "**Let's use above best K's for KNN Algo**"
   ]
  },
  {
   "cell_type": "code",
   "execution_count": 276,
   "metadata": {
    "ExecuteTime": {
     "end_time": "2021-06-29T08:59:51.636934Z",
     "start_time": "2021-06-29T08:59:51.262602Z"
    }
   },
   "outputs": [
    {
     "name": "stdout",
     "output_type": "stream",
     "text": [
      "Accuracy- All Features:  0.9779179810725552\n",
      "Time to fit:  0.03693199157714844\n",
      "Accuracy- RF Features:  0.9779179810725552\n",
      "Time to fit:  0.007001399993896484\n",
      "Accuracy- PCA Features:  0.9700315457413249\n",
      "Time to fit:  0.026950359344482422\n"
     ]
    }
   ],
   "source": [
    "Models.append('KNN with Best K values')\n",
    "\n",
    "Model_KNN2 = KNeighborsClassifier(n_neighbors = 5)\n",
    "start_t_knn1=time.time()\n",
    "Model_KNN2.fit(X_train,y_train)\n",
    "end_t_knn1=time.time()\n",
    "pred_knn1 = Model_KNN2.predict(X_test)\n",
    "Acc_list.append(accuracy_score(y_test,pred_knn1))\n",
    "print('Accuracy- All Features: ',accuracy_score(y_test,pred_knn1))\n",
    "print('Time to fit: ',end_t_knn1-start_t_knn1)\n",
    "\n",
    "Model_KNN2 = KNeighborsClassifier(n_neighbors = 3)\n",
    "start_t_knn2=time.time()\n",
    "Model_KNN2.fit(X_SF_train,y_SF_train)\n",
    "end_t_knn2=time.time()\n",
    "pred_knn2 = Model_KNN2.predict(X_SF_test)\n",
    "Acc_list_SF.append(accuracy_score(y_SF_test,pred_knn2))\n",
    "print('Accuracy- RF Features: ',accuracy_score(y_SF_test,pred_knn2))\n",
    "print('Time to fit: ',end_t_knn2-start_t_knn2)\n",
    "\n",
    "Model_KNN2 = KNeighborsClassifier(n_neighbors = 3)\n",
    "start_t_knn3=time.time()\n",
    "Model_KNN2.fit(X_SF2_train,y_SF2_train)\n",
    "end_t_knn3=time.time()\n",
    "pred_knn3 = Model_KNN2.predict(X_SF2_test)\n",
    "Acc_list_SF2.append(accuracy_score(y_SF2_test,pred_knn3))\n",
    "print('Accuracy- PCA Features: ',accuracy_score(y_SF2_test,pred_knn3))\n",
    "print('Time to fit: ',end_t_knn3-start_t_knn3)\n"
   ]
  },
  {
   "cell_type": "markdown",
   "metadata": {},
   "source": [
    "### Support Vector Machine"
   ]
  },
  {
   "cell_type": "code",
   "execution_count": 277,
   "metadata": {
    "ExecuteTime": {
     "end_time": "2021-06-29T08:59:51.668850Z",
     "start_time": "2021-06-29T08:59:51.649885Z"
    }
   },
   "outputs": [],
   "source": [
    "from sklearn.svm import LinearSVC\n",
    "from sklearn.svm import SVC"
   ]
  },
  {
   "cell_type": "markdown",
   "metadata": {},
   "source": [
    "**Linear SVM**"
   ]
  },
  {
   "cell_type": "code",
   "execution_count": 278,
   "metadata": {
    "ExecuteTime": {
     "end_time": "2021-06-29T08:59:51.911431Z",
     "start_time": "2021-06-29T08:59:51.680330Z"
    },
    "scrolled": false
   },
   "outputs": [
    {
     "name": "stdout",
     "output_type": "stream",
     "text": [
      "Accuracy with All features: 0.9700315457413249\n",
      "Time to fit:  0.13724493980407715\n",
      "Accuracy with RF Selected Features: 0.9558359621451105\n",
      "Time to fit:  0.008983135223388672\n",
      "Accuracy with PCA Selected Features: 0.9684542586750788\n",
      "Time to fit:  0.058889150619506836\n"
     ]
    }
   ],
   "source": [
    "Model_SVM_linear = LinearSVC()\n",
    "fit_pred_acc(Model_SVM_linear,'Linear SVM')"
   ]
  },
  {
   "cell_type": "code",
   "execution_count": 279,
   "metadata": {
    "ExecuteTime": {
     "end_time": "2021-06-29T08:59:53.190021Z",
     "start_time": "2021-06-29T08:59:51.914395Z"
    },
    "scrolled": true
   },
   "outputs": [
    {
     "name": "stdout",
     "output_type": "stream",
     "text": [
      "Accuracy with All features: 0.9589905362776026\n",
      "Time to fit:  0.6073691844940186\n",
      "Accuracy with RF Selected Features: 0.9794952681388013\n",
      "Time to fit:  0.20062565803527832\n",
      "Accuracy with PCA Selected Features: 0.9589905362776026\n",
      "Time to fit:  0.42021870613098145\n"
     ]
    }
   ],
   "source": [
    "Model_SVM_Poly = SVC(kernel = 'poly', probability = True)\n",
    "fit_pred_acc(Model_SVM_Poly,'Poly SVM')"
   ]
  },
  {
   "cell_type": "code",
   "execution_count": 280,
   "metadata": {
    "ExecuteTime": {
     "end_time": "2021-06-29T08:59:53.567821Z",
     "start_time": "2021-06-29T08:59:53.194016Z"
    },
    "scrolled": true
   },
   "outputs": [
    {
     "name": "stdout",
     "output_type": "stream",
     "text": [
      "Accuracy with All features: 0.9842271293375394\n",
      "Time to fit:  0.08583903312683105\n",
      "Accuracy with RF Selected Features: 0.9763406940063092\n",
      "Time to fit:  0.08335661888122559\n",
      "Accuracy with PCA Selected Features: 0.9794952681388013\n",
      "Time to fit:  0.13275671005249023\n"
     ]
    }
   ],
   "source": [
    "Model_SVM_RBF = SVC()\n",
    "fit_pred_acc(Model_SVM_RBF, 'RBF SVM')"
   ]
  },
  {
   "cell_type": "code",
   "execution_count": 281,
   "metadata": {
    "ExecuteTime": {
     "end_time": "2021-06-29T09:08:46.278610Z",
     "start_time": "2021-06-29T08:59:53.573312Z"
    },
    "scrolled": true
   },
   "outputs": [
    {
     "name": "stdout",
     "output_type": "stream",
     "text": [
      "Accuracy with All features: 0.9842271293375394\n",
      "Time to fit:  249.41130471229553\n",
      "Accuracy with RF Selected Features: 0.9842271293375394\n",
      "Time to fit:  83.85836124420166\n",
      "Accuracy with PCA Selected Features: 0.9794952681388013\n",
      "Time to fit:  199.38724279403687\n"
     ]
    }
   ],
   "source": [
    "params_dict={'C':[0.001,0.01,0.1,1,10,100],'gamma':[0.001,0.01,0.1,1,10,100],'kernel':['linear','rbf']}\n",
    "Model_SVM_GridCV = GridSearchCV(estimator=SVC(),param_grid=params_dict,scoring='accuracy',cv=10)\n",
    "fit_pred_acc(Model_SVM_GridCV,'SVM with GridCV')"
   ]
  },
  {
   "cell_type": "code",
   "execution_count": 282,
   "metadata": {
    "ExecuteTime": {
     "end_time": "2021-06-29T09:08:46.295077Z",
     "start_time": "2021-06-29T09:08:46.282601Z"
    }
   },
   "outputs": [
    {
     "data": {
      "text/plain": [
       "{'C': 1, 'gamma': 0.1, 'kernel': 'rbf'}"
      ]
     },
     "execution_count": 282,
     "metadata": {},
     "output_type": "execute_result"
    }
   ],
   "source": [
    "Model_SVM_GridCV.best_params_"
   ]
  },
  {
   "cell_type": "markdown",
   "metadata": {},
   "source": [
    "# Model Evalution"
   ]
  },
  {
   "cell_type": "code",
   "execution_count": 283,
   "metadata": {
    "ExecuteTime": {
     "end_time": "2021-06-29T09:08:46.319533Z",
     "start_time": "2021-06-29T09:08:46.308552Z"
    }
   },
   "outputs": [],
   "source": [
    "Model_evalution = {'Algo Name':Models,'Accuracy All Features':Acc_list,\n",
    "                   'Accuracy RF Selected Features':Acc_list_SF, \n",
    "                  'Accuracy PCA Selected Features':Acc_list_SF2}\n",
    "df_ME = pd.DataFrame(Model_evalution)"
   ]
  },
  {
   "cell_type": "code",
   "execution_count": 284,
   "metadata": {
    "ExecuteTime": {
     "end_time": "2021-06-29T09:08:46.354469Z",
     "start_time": "2021-06-29T09:08:46.325522Z"
    },
    "scrolled": true
   },
   "outputs": [
    {
     "data": {
      "text/html": [
       "<div>\n",
       "<style scoped>\n",
       "    .dataframe tbody tr th:only-of-type {\n",
       "        vertical-align: middle;\n",
       "    }\n",
       "\n",
       "    .dataframe tbody tr th {\n",
       "        vertical-align: top;\n",
       "    }\n",
       "\n",
       "    .dataframe thead th {\n",
       "        text-align: right;\n",
       "    }\n",
       "</style>\n",
       "<table border=\"1\" class=\"dataframe\">\n",
       "  <thead>\n",
       "    <tr style=\"text-align: right;\">\n",
       "      <th></th>\n",
       "      <th>Algo Name</th>\n",
       "      <th>Accuracy All Features</th>\n",
       "      <th>Accuracy RF Selected Features</th>\n",
       "      <th>Accuracy PCA Selected Features</th>\n",
       "    </tr>\n",
       "  </thead>\n",
       "  <tbody>\n",
       "    <tr>\n",
       "      <th>0</th>\n",
       "      <td>Logistic Regression</td>\n",
       "      <td>0.973186</td>\n",
       "      <td>0.922713</td>\n",
       "      <td>0.968454</td>\n",
       "    </tr>\n",
       "    <tr>\n",
       "      <th>1</th>\n",
       "      <td>Decision Tree</td>\n",
       "      <td>0.962145</td>\n",
       "      <td>0.957413</td>\n",
       "      <td>0.951104</td>\n",
       "    </tr>\n",
       "    <tr>\n",
       "      <th>2</th>\n",
       "      <td>Random Forest</td>\n",
       "      <td>0.977918</td>\n",
       "      <td>0.974763</td>\n",
       "      <td>0.963722</td>\n",
       "    </tr>\n",
       "    <tr>\n",
       "      <th>3</th>\n",
       "      <td>Naive Bayes</td>\n",
       "      <td>0.884858</td>\n",
       "      <td>0.957413</td>\n",
       "      <td>0.930599</td>\n",
       "    </tr>\n",
       "    <tr>\n",
       "      <th>4</th>\n",
       "      <td>KNN with RandomSearchCV</td>\n",
       "      <td>0.984227</td>\n",
       "      <td>0.976341</td>\n",
       "      <td>0.974763</td>\n",
       "    </tr>\n",
       "    <tr>\n",
       "      <th>5</th>\n",
       "      <td>KNN with Best K values</td>\n",
       "      <td>0.977918</td>\n",
       "      <td>0.977918</td>\n",
       "      <td>0.970032</td>\n",
       "    </tr>\n",
       "    <tr>\n",
       "      <th>6</th>\n",
       "      <td>Linear SVM</td>\n",
       "      <td>0.970032</td>\n",
       "      <td>0.955836</td>\n",
       "      <td>0.968454</td>\n",
       "    </tr>\n",
       "    <tr>\n",
       "      <th>7</th>\n",
       "      <td>Poly SVM</td>\n",
       "      <td>0.958991</td>\n",
       "      <td>0.979495</td>\n",
       "      <td>0.958991</td>\n",
       "    </tr>\n",
       "    <tr>\n",
       "      <th>8</th>\n",
       "      <td>RBF SVM</td>\n",
       "      <td>0.984227</td>\n",
       "      <td>0.976341</td>\n",
       "      <td>0.979495</td>\n",
       "    </tr>\n",
       "    <tr>\n",
       "      <th>9</th>\n",
       "      <td>SVM with GridCV</td>\n",
       "      <td>0.984227</td>\n",
       "      <td>0.984227</td>\n",
       "      <td>0.979495</td>\n",
       "    </tr>\n",
       "  </tbody>\n",
       "</table>\n",
       "</div>"
      ],
      "text/plain": [
       "                 Algo Name  Accuracy All Features  \\\n",
       "0      Logistic Regression               0.973186   \n",
       "1            Decision Tree               0.962145   \n",
       "2            Random Forest               0.977918   \n",
       "3              Naive Bayes               0.884858   \n",
       "4  KNN with RandomSearchCV               0.984227   \n",
       "5   KNN with Best K values               0.977918   \n",
       "6               Linear SVM               0.970032   \n",
       "7                 Poly SVM               0.958991   \n",
       "8                  RBF SVM               0.984227   \n",
       "9          SVM with GridCV               0.984227   \n",
       "\n",
       "   Accuracy RF Selected Features  Accuracy PCA Selected Features  \n",
       "0                       0.922713                        0.968454  \n",
       "1                       0.957413                        0.951104  \n",
       "2                       0.974763                        0.963722  \n",
       "3                       0.957413                        0.930599  \n",
       "4                       0.976341                        0.974763  \n",
       "5                       0.977918                        0.970032  \n",
       "6                       0.955836                        0.968454  \n",
       "7                       0.979495                        0.958991  \n",
       "8                       0.976341                        0.979495  \n",
       "9                       0.984227                        0.979495  "
      ]
     },
     "execution_count": 284,
     "metadata": {},
     "output_type": "execute_result"
    }
   ],
   "source": [
    "df_ME"
   ]
  },
  {
   "cell_type": "code",
   "execution_count": 304,
   "metadata": {
    "ExecuteTime": {
     "end_time": "2021-06-29T09:43:48.864400Z",
     "start_time": "2021-06-29T09:43:48.404254Z"
    }
   },
   "outputs": [
    {
     "data": {
      "image/png": "[encoded data removed]",
      "text/plain": [
       "<Figure size 1080x432 with 1 Axes>"
      ]
     },
     "metadata": {
      "needs_background": "light"
     },
     "output_type": "display_data"
    }
   ],
   "source": [
    "plt.figure(figsize=(15,6))\n",
    "plt.plot(df_ME['Accuracy All Features'], color='blue', linestyle='dashed', marker='o', markerfacecolor='red', markersize='10',label='All features')\n",
    "plt.plot(df_ME['Accuracy RF Selected Features'], color='red', marker='o', markerfacecolor='blue', markersize='10',label='RF features')\n",
    "plt.plot(df_ME['Accuracy PCA Selected Features'], color='green', marker='o', markerfacecolor='yellow', markersize='10',label='PCA features')\n",
    "plt.legend(loc=4, fontsize=14)\n",
    "plt.xlabel('Algo Names', fontsize=16, weight='bold')\n",
    "plt.xticks(ticks= range(0,10) , labels = df_ME['Algo Name'].tolist(), rotation=40);\n",
    "plt.ylabel('Accuracy of models', fontsize=16, weight='bold')\n",
    "plt.show()"
   ]
  },
  {
   "cell_type": "markdown",
   "metadata": {
    "ExecuteTime": {
     "end_time": "2021-06-29T09:53:23.342264Z",
     "start_time": "2021-06-29T09:53:23.333281Z"
    }
   },
   "source": [
    "- The Model Selected is SVM using {'C': 1, 'gamma': 0.1, 'kernel': 'rbf'} and accuracy of almost 98%\n",
    "\n",
    "\n",
    "- The Target data is well Balanced hence we evaluate only using accuracy score."
   ]
  },
  {
   "cell_type": "markdown",
   "metadata": {},
   "source": [
    "# Conclusion"
   ]
  },
  {
   "cell_type": "markdown",
   "metadata": {},
   "source": [
    "- We  have attempted to classify gender using six trained models among them the **Support Vector Machine RBF with GridSearchCV** model performs better than the others.\n",
    "- The Model which we proposed has **best accuracy of almost 98%** with less time taken with Dimensionality reduction using PCA.\n",
    "- Models with All 20 features give just above 98% accuracy for SVM but take a lot more time compared to PCA.\n",
    "- Modela with RF selected features give just above 98% accuracy for SVM but the number of features considered are too low and can degrade the performance in future.\n",
    "- Models with good performance will help to use and develop voice based gender recognition systems more effectively in wide range of aspects."
   ]
  }
 ],
 "metadata": {
  "kernelspec": {
   "display_name": "Python 3",
   "language": "python",
   "name": "python3"
  },
  "language_info": {
   "codemirror_mode": {
    "name": "ipython",
    "version": 3
   },
   "file_extension": ".py",
   "mimetype": "text/x-python",
   "name": "python",
   "nbconvert_exporter": "python",
   "pygments_lexer": "ipython3",
   "version": "3.8.5"
  },
  "toc": {
   "base_numbering": 1,
   "nav_menu": {},
   "number_sections": true,
   "sideBar": true,
   "skip_h1_title": false,
   "title_cell": "Table of Contents",
   "title_sidebar": "Contents",
   "toc_cell": false,
   "toc_position": {
    "height": "calc(100% - 180px)",
    "left": "10px",
    "top": "150px",
    "width": "305.067px"
   },
   "toc_section_display": true,
   "toc_window_display": true
  }
 },
 "nbformat": 4,
 "nbformat_minor": 4
}
